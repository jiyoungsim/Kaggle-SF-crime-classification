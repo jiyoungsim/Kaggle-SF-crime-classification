{
 "cells": [
  {
   "cell_type": "code",
   "execution_count": 1,
   "metadata": {},
   "outputs": [],
   "source": [
    "import numpy as np \n",
    "import pandas as pd "
   ]
  },
  {
   "cell_type": "code",
   "execution_count": 2,
   "metadata": {},
   "outputs": [],
   "source": [
    "# train = pd.read_csv('../input/train.csv', parse_dates=['Dates'])\n",
    "# test = pd.read_csv('../input/test.csv', parse_dates=['Dates'], index_col='Id')\n",
    "train = pd.read_csv('train.csv', parse_dates=['Dates'])\n",
    "test = pd.read_csv('test.csv', parse_dates=['Dates'], index_col='Id')"
   ]
  },
  {
   "cell_type": "code",
   "execution_count": 3,
   "metadata": {},
   "outputs": [
    {
     "data": {
      "text/html": [
       "<div>\n",
       "<style scoped>\n",
       "    .dataframe tbody tr th:only-of-type {\n",
       "        vertical-align: middle;\n",
       "    }\n",
       "\n",
       "    .dataframe tbody tr th {\n",
       "        vertical-align: top;\n",
       "    }\n",
       "\n",
       "    .dataframe thead th {\n",
       "        text-align: right;\n",
       "    }\n",
       "</style>\n",
       "<table border=\"1\" class=\"dataframe\">\n",
       "  <thead>\n",
       "    <tr style=\"text-align: right;\">\n",
       "      <th></th>\n",
       "      <th>Dates</th>\n",
       "      <th>Category</th>\n",
       "      <th>Descript</th>\n",
       "      <th>DayOfWeek</th>\n",
       "      <th>PdDistrict</th>\n",
       "      <th>Resolution</th>\n",
       "      <th>Address</th>\n",
       "      <th>X</th>\n",
       "      <th>Y</th>\n",
       "    </tr>\n",
       "  </thead>\n",
       "  <tbody>\n",
       "    <tr>\n",
       "      <th>0</th>\n",
       "      <td>2015-05-13 23:53:00</td>\n",
       "      <td>WARRANTS</td>\n",
       "      <td>WARRANT ARREST</td>\n",
       "      <td>Wednesday</td>\n",
       "      <td>NORTHERN</td>\n",
       "      <td>ARREST, BOOKED</td>\n",
       "      <td>OAK ST / LAGUNA ST</td>\n",
       "      <td>-122.425892</td>\n",
       "      <td>37.774599</td>\n",
       "    </tr>\n",
       "    <tr>\n",
       "      <th>1</th>\n",
       "      <td>2015-05-13 23:53:00</td>\n",
       "      <td>OTHER OFFENSES</td>\n",
       "      <td>TRAFFIC VIOLATION ARREST</td>\n",
       "      <td>Wednesday</td>\n",
       "      <td>NORTHERN</td>\n",
       "      <td>ARREST, BOOKED</td>\n",
       "      <td>OAK ST / LAGUNA ST</td>\n",
       "      <td>-122.425892</td>\n",
       "      <td>37.774599</td>\n",
       "    </tr>\n",
       "    <tr>\n",
       "      <th>2</th>\n",
       "      <td>2015-05-13 23:33:00</td>\n",
       "      <td>OTHER OFFENSES</td>\n",
       "      <td>TRAFFIC VIOLATION ARREST</td>\n",
       "      <td>Wednesday</td>\n",
       "      <td>NORTHERN</td>\n",
       "      <td>ARREST, BOOKED</td>\n",
       "      <td>VANNESS AV / GREENWICH ST</td>\n",
       "      <td>-122.424363</td>\n",
       "      <td>37.800414</td>\n",
       "    </tr>\n",
       "    <tr>\n",
       "      <th>3</th>\n",
       "      <td>2015-05-13 23:30:00</td>\n",
       "      <td>LARCENY/THEFT</td>\n",
       "      <td>GRAND THEFT FROM LOCKED AUTO</td>\n",
       "      <td>Wednesday</td>\n",
       "      <td>NORTHERN</td>\n",
       "      <td>NONE</td>\n",
       "      <td>1500 Block of LOMBARD ST</td>\n",
       "      <td>-122.426995</td>\n",
       "      <td>37.800873</td>\n",
       "    </tr>\n",
       "    <tr>\n",
       "      <th>4</th>\n",
       "      <td>2015-05-13 23:30:00</td>\n",
       "      <td>LARCENY/THEFT</td>\n",
       "      <td>GRAND THEFT FROM LOCKED AUTO</td>\n",
       "      <td>Wednesday</td>\n",
       "      <td>PARK</td>\n",
       "      <td>NONE</td>\n",
       "      <td>100 Block of BRODERICK ST</td>\n",
       "      <td>-122.438738</td>\n",
       "      <td>37.771541</td>\n",
       "    </tr>\n",
       "  </tbody>\n",
       "</table>\n",
       "</div>"
      ],
      "text/plain": [
       "                Dates        Category                      Descript  \\\n",
       "0 2015-05-13 23:53:00        WARRANTS                WARRANT ARREST   \n",
       "1 2015-05-13 23:53:00  OTHER OFFENSES      TRAFFIC VIOLATION ARREST   \n",
       "2 2015-05-13 23:33:00  OTHER OFFENSES      TRAFFIC VIOLATION ARREST   \n",
       "3 2015-05-13 23:30:00   LARCENY/THEFT  GRAND THEFT FROM LOCKED AUTO   \n",
       "4 2015-05-13 23:30:00   LARCENY/THEFT  GRAND THEFT FROM LOCKED AUTO   \n",
       "\n",
       "   DayOfWeek PdDistrict      Resolution                    Address  \\\n",
       "0  Wednesday   NORTHERN  ARREST, BOOKED         OAK ST / LAGUNA ST   \n",
       "1  Wednesday   NORTHERN  ARREST, BOOKED         OAK ST / LAGUNA ST   \n",
       "2  Wednesday   NORTHERN  ARREST, BOOKED  VANNESS AV / GREENWICH ST   \n",
       "3  Wednesday   NORTHERN            NONE   1500 Block of LOMBARD ST   \n",
       "4  Wednesday       PARK            NONE  100 Block of BRODERICK ST   \n",
       "\n",
       "            X          Y  \n",
       "0 -122.425892  37.774599  \n",
       "1 -122.425892  37.774599  \n",
       "2 -122.424363  37.800414  \n",
       "3 -122.426995  37.800873  \n",
       "4 -122.438738  37.771541  "
      ]
     },
     "execution_count": 3,
     "metadata": {},
     "output_type": "execute_result"
    }
   ],
   "source": [
    "train.head()"
   ]
  },
  {
   "cell_type": "code",
   "execution_count": 4,
   "metadata": {},
   "outputs": [
    {
     "data": {
      "text/html": [
       "<div>\n",
       "<style scoped>\n",
       "    .dataframe tbody tr th:only-of-type {\n",
       "        vertical-align: middle;\n",
       "    }\n",
       "\n",
       "    .dataframe tbody tr th {\n",
       "        vertical-align: top;\n",
       "    }\n",
       "\n",
       "    .dataframe thead th {\n",
       "        text-align: right;\n",
       "    }\n",
       "</style>\n",
       "<table border=\"1\" class=\"dataframe\">\n",
       "  <thead>\n",
       "    <tr style=\"text-align: right;\">\n",
       "      <th></th>\n",
       "      <th>Dates</th>\n",
       "      <th>DayOfWeek</th>\n",
       "      <th>PdDistrict</th>\n",
       "      <th>Address</th>\n",
       "      <th>X</th>\n",
       "      <th>Y</th>\n",
       "    </tr>\n",
       "    <tr>\n",
       "      <th>Id</th>\n",
       "      <th></th>\n",
       "      <th></th>\n",
       "      <th></th>\n",
       "      <th></th>\n",
       "      <th></th>\n",
       "      <th></th>\n",
       "    </tr>\n",
       "  </thead>\n",
       "  <tbody>\n",
       "    <tr>\n",
       "      <th>0</th>\n",
       "      <td>2015-05-10 23:59:00</td>\n",
       "      <td>Sunday</td>\n",
       "      <td>BAYVIEW</td>\n",
       "      <td>2000 Block of THOMAS AV</td>\n",
       "      <td>-122.399588</td>\n",
       "      <td>37.735051</td>\n",
       "    </tr>\n",
       "    <tr>\n",
       "      <th>1</th>\n",
       "      <td>2015-05-10 23:51:00</td>\n",
       "      <td>Sunday</td>\n",
       "      <td>BAYVIEW</td>\n",
       "      <td>3RD ST / REVERE AV</td>\n",
       "      <td>-122.391523</td>\n",
       "      <td>37.732432</td>\n",
       "    </tr>\n",
       "    <tr>\n",
       "      <th>2</th>\n",
       "      <td>2015-05-10 23:50:00</td>\n",
       "      <td>Sunday</td>\n",
       "      <td>NORTHERN</td>\n",
       "      <td>2000 Block of GOUGH ST</td>\n",
       "      <td>-122.426002</td>\n",
       "      <td>37.792212</td>\n",
       "    </tr>\n",
       "    <tr>\n",
       "      <th>3</th>\n",
       "      <td>2015-05-10 23:45:00</td>\n",
       "      <td>Sunday</td>\n",
       "      <td>INGLESIDE</td>\n",
       "      <td>4700 Block of MISSION ST</td>\n",
       "      <td>-122.437394</td>\n",
       "      <td>37.721412</td>\n",
       "    </tr>\n",
       "    <tr>\n",
       "      <th>4</th>\n",
       "      <td>2015-05-10 23:45:00</td>\n",
       "      <td>Sunday</td>\n",
       "      <td>INGLESIDE</td>\n",
       "      <td>4700 Block of MISSION ST</td>\n",
       "      <td>-122.437394</td>\n",
       "      <td>37.721412</td>\n",
       "    </tr>\n",
       "  </tbody>\n",
       "</table>\n",
       "</div>"
      ],
      "text/plain": [
       "                 Dates DayOfWeek PdDistrict                   Address  \\\n",
       "Id                                                                      \n",
       "0  2015-05-10 23:59:00    Sunday    BAYVIEW   2000 Block of THOMAS AV   \n",
       "1  2015-05-10 23:51:00    Sunday    BAYVIEW        3RD ST / REVERE AV   \n",
       "2  2015-05-10 23:50:00    Sunday   NORTHERN    2000 Block of GOUGH ST   \n",
       "3  2015-05-10 23:45:00    Sunday  INGLESIDE  4700 Block of MISSION ST   \n",
       "4  2015-05-10 23:45:00    Sunday  INGLESIDE  4700 Block of MISSION ST   \n",
       "\n",
       "             X          Y  \n",
       "Id                         \n",
       "0  -122.399588  37.735051  \n",
       "1  -122.391523  37.732432  \n",
       "2  -122.426002  37.792212  \n",
       "3  -122.437394  37.721412  \n",
       "4  -122.437394  37.721412  "
      ]
     },
     "execution_count": 4,
     "metadata": {},
     "output_type": "execute_result"
    }
   ],
   "source": [
    "test.head()"
   ]
  },
  {
   "cell_type": "code",
   "execution_count": 5,
   "metadata": {},
   "outputs": [
    {
     "name": "stderr",
     "output_type": "stream",
     "text": [
      "Using TensorFlow backend.\n"
     ]
    }
   ],
   "source": [
    "from keras.preprocessing.text import Tokenizer\n",
    "tokenizer = Tokenizer()\n",
    "tokenizer.fit_on_texts(list(train[\"Address\"]) + list(test[\"Address\"]))\n",
    "\n",
    "train_seq = tokenizer.texts_to_sequences(train[\"Address\"])\n",
    "test_seq = tokenizer.texts_to_sequences(test[\"Address\"])\n",
    "\n",
    "from keras.preprocessing.sequence import pad_sequences\n",
    "train_seq = pad_sequences(train_seq, maxlen=7)\n",
    "test_seq = pad_sequences(test_seq, maxlen=7)\n",
    "\n",
    "from keras import Sequential\n",
    "from keras.layers import Flatten, Embedding, Dense \n",
    "model = Sequential()\n",
    "model.add(Embedding(2201, 1, input_length=7))\n",
    "model.add(Flatten())\n",
    "model.add(Dense(39, activation='softmax'))\n",
    "model.compile(optimizer='adam', loss='sparse_categorical_crossentropy', metrics=['acc'])"
   ]
  },
  {
   "cell_type": "code",
   "execution_count": 6,
   "metadata": {},
   "outputs": [
    {
     "name": "stderr",
     "output_type": "stream",
     "text": [
      "C:\\Users\\Jiyoung Sim\\Anaconda3\\lib\\site-packages\\tensorflow_core\\python\\framework\\indexed_slices.py:424: UserWarning: Converting sparse IndexedSlices to a dense Tensor of unknown shape. This may consume a large amount of memory.\n",
      "  \"Converting sparse IndexedSlices to a dense Tensor of unknown shape. \"\n"
     ]
    },
    {
     "name": "stdout",
     "output_type": "stream",
     "text": [
      "Epoch 1/10\n",
      "878049/878049 [==============================] - 2s 2us/step - loss: 3.0936 - acc: 0.1349\n",
      "Epoch 2/10\n",
      "878049/878049 [==============================] - 2s 2us/step - loss: 2.6540 - acc: 0.2038\n",
      "Epoch 3/10\n",
      "878049/878049 [==============================] - 2s 2us/step - loss: 2.6184 - acc: 0.2103\n",
      "Epoch 4/10\n",
      "878049/878049 [==============================] - 2s 2us/step - loss: 2.6035 - acc: 0.2102\n",
      "Epoch 5/10\n",
      "878049/878049 [==============================] - 2s 2us/step - loss: 2.5942 - acc: 0.2104\n",
      "Epoch 6/10\n",
      "878049/878049 [==============================] - 2s 2us/step - loss: 2.5869 - acc: 0.2136\n",
      "Epoch 7/10\n",
      "878049/878049 [==============================] - 2s 2us/step - loss: 2.5810 - acc: 0.2156\n",
      "Epoch 8/10\n",
      "878049/878049 [==============================] - 2s 2us/step - loss: 2.5763 - acc: 0.2197\n",
      "Epoch 9/10\n",
      "878049/878049 [==============================] - 2s 2us/step - loss: 2.5726 - acc: 0.2225\n",
      "Epoch 10/10\n",
      "878049/878049 [==============================] - 2s 2us/step - loss: 2.5698 - acc: 0.2242\n"
     ]
    }
   ],
   "source": [
    "from sklearn.preprocessing import LabelEncoder\n",
    "le2 = LabelEncoder()\n",
    "y= le2.fit_transform(train['Category'])\n",
    "model.fit(train_seq, y, epochs = 10 , batch_size = 2048)\n",
    "\n",
    "train_preds = model.predict(train_seq)\n",
    "test_preds = model.predict(test_seq)"
   ]
  },
  {
   "cell_type": "code",
   "execution_count": 7,
   "metadata": {},
   "outputs": [],
   "source": [
    "from sklearn.decomposition import PCA\n",
    "\n",
    "pca = PCA(n_components=2)\n",
    "train_addr = pca.fit_transform(train_preds)\n",
    "test_addr = pca.transform(test_preds)"
   ]
  },
  {
   "cell_type": "code",
   "execution_count": 8,
   "metadata": {},
   "outputs": [],
   "source": [
    "train['Date'] = pd.to_datetime(train['Dates'].dt.date)\n",
    "train['n_days'] = (train['Date'] - train['Date'].min()).apply(lambda x: x.days)\n",
    "train['Day'] = train['Dates'].dt.day\n",
    "train['DayOfWeek'] = train['Dates'].dt.weekday\n",
    "train['Month'] = train['Dates'].dt.month\n",
    "train['Year'] = train['Dates'].dt.year\n",
    "train['Hour'] = train['Dates'].dt.hour\n",
    "train['Minute'] = train['Dates'].dt.minute\n",
    "\n",
    "test['Date'] = pd.to_datetime(test['Dates'].dt.date)\n",
    "test['n_days'] = (test['Date'] - test['Date'].min()).apply(lambda x: x.days)\n",
    "test['Day'] = test['Dates'].dt.day\n",
    "test['DayOfWeek'] = test['Dates'].dt.weekday\n",
    "test['Month'] = test['Dates'].dt.month\n",
    "test['Year'] = test['Dates'].dt.year\n",
    "test['Hour'] = test['Dates'].dt.hour\n",
    "test['Minute'] = test['Dates'].dt.minute"
   ]
  },
  {
   "cell_type": "code",
   "execution_count": 9,
   "metadata": {},
   "outputs": [],
   "source": [
    "train['X-Y'] = train['X'] - train['Y']\n",
    "train[\"X+Y\"] = train['X'] + train['Y']\n",
    "\n",
    "test['X-Y'] = test['X'] - test['Y']\n",
    "test['X+Y'] = test['X'] + test['Y']"
   ]
  },
  {
   "cell_type": "code",
   "execution_count": 10,
   "metadata": {},
   "outputs": [],
   "source": [
    "from sklearn.preprocessing import LabelEncoder\n",
    "le1 = LabelEncoder()\n",
    "y= le1.fit_transform(train['Category'])\n",
    "\n",
    "le2 = LabelEncoder()\n",
    "train['PdDistrict'] = le2.fit_transform(train['PdDistrict'])\n",
    "test['PdDistrict'] = le2.transform(test['PdDistrict'])\n",
    "\n",
    "train = pd.concat([train, pd.DataFrame(train_addr)], 1)\n",
    "test = pd.concat([test, pd.DataFrame(test_addr)], 1)"
   ]
  },
  {
   "cell_type": "code",
   "execution_count": 11,
   "metadata": {},
   "outputs": [],
   "source": [
    "import re\n",
    "train['Address'] = train['Address'].apply(lambda x: re.sub('[0-9]+ Block of ', '', x, re.IGNORECASE))\n",
    "test['Address'] = test['Address'].apply(lambda x: re.sub('[0-9]+ Block of ', '', x, re.IGNORECASE))"
   ]
  },
  {
   "cell_type": "code",
   "execution_count": 12,
   "metadata": {},
   "outputs": [],
   "source": [
    "le3 = LabelEncoder()\n",
    "le3.fit(list(train['Address']) + list(test['Address']))\n",
    "train['Address'] = le3.transform(train['Address'])\n",
    "test['Address'] = le3.transform(test['Address'])"
   ]
  },
  {
   "cell_type": "code",
   "execution_count": 13,
   "metadata": {},
   "outputs": [],
   "source": [
    "train.drop(['Dates','Date','Descript','Resolution', 'Category'], 1, inplace=True)\n",
    "test.drop(['Dates','Date',], 1, inplace=True)"
   ]
  },
  {
   "cell_type": "code",
   "execution_count": 14,
   "metadata": {},
   "outputs": [
    {
     "name": "stderr",
     "output_type": "stream",
     "text": [
      "C:\\Users\\Jiyoung Sim\\Anaconda3\\lib\\site-packages\\lightgbm\\basic.py:1247: UserWarning: categorical_feature in Dataset is overridden.\n",
      "New categorical_feature is ['DayOfWeek', 'PdDistrict']\n",
      "  'New categorical_feature is {}'.format(sorted(list(categorical_feature))))\n"
     ]
    }
   ],
   "source": [
    "from lightgbm import LGBMClassifier\n",
    "hyper = {'colsample_bytree': 0.6,\n",
    " 'is_unbalance': False,\n",
    " 'learning_rate': 0.4,\n",
    " 'min_data_in_leaf': 100,\n",
    " 'num_class': 39,\n",
    " 'num_leaves': 50,\n",
    " 'max_delta_step' : 0.9,\n",
    " 'objective': 'multiclass',\n",
    " 'reg_alpha': 0.4,\n",
    " 'reg_lambda': 0.5,\n",
    " 'bagging_fraction': 0.9,\n",
    " 'n_estimators': 100} # max_bin = 255, bin_construct_sample_cnt = 200000\n",
    "model = LGBMClassifier(**hyper)\n",
    "model.fit(train, y, categorical_feature=[\"PdDistrict\", \"DayOfWeek\"])\n",
    "preds = model.predict_proba(test)"
   ]
  },
  {
   "cell_type": "code",
   "execution_count": 15,
   "metadata": {},
   "outputs": [],
   "source": [
    "submission = pd.DataFrame(preds, columns=le1.inverse_transform(np.linspace(0, 38, 39, dtype='int16')), index=test.index)\n",
    "submission.to_csv('sf-crime-lgbm2.csv', index_label='Id')"
   ]
  },
  {
   "cell_type": "code",
   "execution_count": null,
   "metadata": {},
   "outputs": [],
   "source": []
  }
 ],
 "metadata": {
  "kernelspec": {
   "display_name": "Python 3",
   "language": "python",
   "name": "python3"
  },
  "language_info": {
   "codemirror_mode": {
    "name": "ipython",
    "version": 3
   },
   "file_extension": ".py",
   "mimetype": "text/x-python",
   "name": "python",
   "nbconvert_exporter": "python",
   "pygments_lexer": "ipython3",
   "version": "3.7.3"
  }
 },
 "nbformat": 4,
 "nbformat_minor": 2
}
